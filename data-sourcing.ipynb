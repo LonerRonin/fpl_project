{
 "cells": [
  {
   "cell_type": "code",
   "execution_count": 29,
   "id": "61652963",
   "metadata": {},
   "outputs": [],
   "source": [
    "import pandas as pd\n",
    "import matplotlib.pyplot as plt\n",
    "import requests\n",
    "from sklearn.preprocessing import MinMaxScaler\n",
    "from sklearn.linear_model import LinearRegression\n",
    "from sklearn.model_selection import train_test_split"
   ]
  },
  {
   "cell_type": "markdown",
   "id": "34f583f5",
   "metadata": {},
   "source": [
    "## Data Sourcing"
   ]
  },
  {
   "cell_type": "code",
   "execution_count": 2,
   "id": "43fe76b2",
   "metadata": {},
   "outputs": [
    {
     "name": "stderr",
     "output_type": "stream",
     "text": [
      "/var/folders/c2/y0gmhjgn52s4fjvr1c_0n5_c0000gp/T/ipykernel_24668/2132138864.py:3: DtypeWarning: Columns (4) have mixed types. Specify dtype option on import or set low_memory=False.\n",
      "  data = pd.read_csv('https://raw.githubusercontent.com/vaastav/Fantasy-Premier-League/master/data/cleaned_merged_seasons.csv')\n"
     ]
    }
   ],
   "source": [
    "'''inital data sourcing'''\n",
    "\n",
    "data = pd.read_csv('https://raw.githubusercontent.com/vaastav/Fantasy-Premier-League/master/data/cleaned_merged_seasons.csv')"
   ]
  },
  {
   "cell_type": "code",
   "execution_count": 3,
   "id": "75467492",
   "metadata": {},
   "outputs": [
    {
     "data": {
      "text/html": [
       "<div>\n",
       "<style scoped>\n",
       "    .dataframe tbody tr th:only-of-type {\n",
       "        vertical-align: middle;\n",
       "    }\n",
       "\n",
       "    .dataframe tbody tr th {\n",
       "        vertical-align: top;\n",
       "    }\n",
       "\n",
       "    .dataframe thead th {\n",
       "        text-align: right;\n",
       "    }\n",
       "</style>\n",
       "<table border=\"1\" class=\"dataframe\">\n",
       "  <thead>\n",
       "    <tr style=\"text-align: right;\">\n",
       "      <th></th>\n",
       "      <th>Unnamed: 0</th>\n",
       "      <th>season_x</th>\n",
       "      <th>name</th>\n",
       "      <th>position</th>\n",
       "      <th>team_x</th>\n",
       "      <th>assists</th>\n",
       "      <th>bonus</th>\n",
       "      <th>bps</th>\n",
       "      <th>clean_sheets</th>\n",
       "      <th>creativity</th>\n",
       "      <th>...</th>\n",
       "      <th>team_h_score</th>\n",
       "      <th>threat</th>\n",
       "      <th>total_points</th>\n",
       "      <th>transfers_balance</th>\n",
       "      <th>transfers_in</th>\n",
       "      <th>transfers_out</th>\n",
       "      <th>value</th>\n",
       "      <th>was_home</th>\n",
       "      <th>yellow_cards</th>\n",
       "      <th>GW</th>\n",
       "    </tr>\n",
       "  </thead>\n",
       "  <tbody>\n",
       "    <tr>\n",
       "      <th>0</th>\n",
       "      <td>0</td>\n",
       "      <td>2016-17</td>\n",
       "      <td>Aaron Cresswell</td>\n",
       "      <td>DEF</td>\n",
       "      <td>NaN</td>\n",
       "      <td>0</td>\n",
       "      <td>0</td>\n",
       "      <td>0</td>\n",
       "      <td>0</td>\n",
       "      <td>0.0</td>\n",
       "      <td>...</td>\n",
       "      <td>2.0</td>\n",
       "      <td>0.0</td>\n",
       "      <td>0</td>\n",
       "      <td>0</td>\n",
       "      <td>0</td>\n",
       "      <td>0</td>\n",
       "      <td>55</td>\n",
       "      <td>False</td>\n",
       "      <td>0</td>\n",
       "      <td>1</td>\n",
       "    </tr>\n",
       "    <tr>\n",
       "      <th>1</th>\n",
       "      <td>1</td>\n",
       "      <td>2016-17</td>\n",
       "      <td>Aaron Lennon</td>\n",
       "      <td>MID</td>\n",
       "      <td>NaN</td>\n",
       "      <td>0</td>\n",
       "      <td>0</td>\n",
       "      <td>6</td>\n",
       "      <td>0</td>\n",
       "      <td>0.3</td>\n",
       "      <td>...</td>\n",
       "      <td>1.0</td>\n",
       "      <td>0.0</td>\n",
       "      <td>1</td>\n",
       "      <td>0</td>\n",
       "      <td>0</td>\n",
       "      <td>0</td>\n",
       "      <td>60</td>\n",
       "      <td>True</td>\n",
       "      <td>0</td>\n",
       "      <td>1</td>\n",
       "    </tr>\n",
       "    <tr>\n",
       "      <th>2</th>\n",
       "      <td>2</td>\n",
       "      <td>2016-17</td>\n",
       "      <td>Aaron Ramsey</td>\n",
       "      <td>MID</td>\n",
       "      <td>NaN</td>\n",
       "      <td>0</td>\n",
       "      <td>0</td>\n",
       "      <td>5</td>\n",
       "      <td>0</td>\n",
       "      <td>4.9</td>\n",
       "      <td>...</td>\n",
       "      <td>3.0</td>\n",
       "      <td>23.0</td>\n",
       "      <td>2</td>\n",
       "      <td>0</td>\n",
       "      <td>0</td>\n",
       "      <td>0</td>\n",
       "      <td>80</td>\n",
       "      <td>True</td>\n",
       "      <td>0</td>\n",
       "      <td>1</td>\n",
       "    </tr>\n",
       "    <tr>\n",
       "      <th>3</th>\n",
       "      <td>3</td>\n",
       "      <td>2016-17</td>\n",
       "      <td>Abdoulaye Doucouré</td>\n",
       "      <td>MID</td>\n",
       "      <td>NaN</td>\n",
       "      <td>0</td>\n",
       "      <td>0</td>\n",
       "      <td>0</td>\n",
       "      <td>0</td>\n",
       "      <td>0.0</td>\n",
       "      <td>...</td>\n",
       "      <td>1.0</td>\n",
       "      <td>0.0</td>\n",
       "      <td>0</td>\n",
       "      <td>0</td>\n",
       "      <td>0</td>\n",
       "      <td>0</td>\n",
       "      <td>50</td>\n",
       "      <td>False</td>\n",
       "      <td>0</td>\n",
       "      <td>1</td>\n",
       "    </tr>\n",
       "    <tr>\n",
       "      <th>4</th>\n",
       "      <td>4</td>\n",
       "      <td>2016-17</td>\n",
       "      <td>Adam Forshaw</td>\n",
       "      <td>MID</td>\n",
       "      <td>NaN</td>\n",
       "      <td>0</td>\n",
       "      <td>0</td>\n",
       "      <td>3</td>\n",
       "      <td>0</td>\n",
       "      <td>1.3</td>\n",
       "      <td>...</td>\n",
       "      <td>1.0</td>\n",
       "      <td>0.0</td>\n",
       "      <td>1</td>\n",
       "      <td>0</td>\n",
       "      <td>0</td>\n",
       "      <td>0</td>\n",
       "      <td>45</td>\n",
       "      <td>True</td>\n",
       "      <td>1</td>\n",
       "      <td>1</td>\n",
       "    </tr>\n",
       "    <tr>\n",
       "      <th>...</th>\n",
       "      <td>...</td>\n",
       "      <td>...</td>\n",
       "      <td>...</td>\n",
       "      <td>...</td>\n",
       "      <td>...</td>\n",
       "      <td>...</td>\n",
       "      <td>...</td>\n",
       "      <td>...</td>\n",
       "      <td>...</td>\n",
       "      <td>...</td>\n",
       "      <td>...</td>\n",
       "      <td>...</td>\n",
       "      <td>...</td>\n",
       "      <td>...</td>\n",
       "      <td>...</td>\n",
       "      <td>...</td>\n",
       "      <td>...</td>\n",
       "      <td>...</td>\n",
       "      <td>...</td>\n",
       "      <td>...</td>\n",
       "      <td>...</td>\n",
       "    </tr>\n",
       "    <tr>\n",
       "      <th>98397</th>\n",
       "      <td>98397</td>\n",
       "      <td>2021-22</td>\n",
       "      <td>Wilfred Ndidi</td>\n",
       "      <td>MID</td>\n",
       "      <td>Leicester</td>\n",
       "      <td>0</td>\n",
       "      <td>0</td>\n",
       "      <td>0</td>\n",
       "      <td>0</td>\n",
       "      <td>0.0</td>\n",
       "      <td>...</td>\n",
       "      <td>4.0</td>\n",
       "      <td>0.0</td>\n",
       "      <td>0</td>\n",
       "      <td>-202</td>\n",
       "      <td>22</td>\n",
       "      <td>224</td>\n",
       "      <td>48</td>\n",
       "      <td>True</td>\n",
       "      <td>0</td>\n",
       "      <td>38</td>\n",
       "    </tr>\n",
       "    <tr>\n",
       "      <th>98398</th>\n",
       "      <td>98398</td>\n",
       "      <td>2021-22</td>\n",
       "      <td>Matt Ritchie</td>\n",
       "      <td>DEF</td>\n",
       "      <td>Newcastle</td>\n",
       "      <td>0</td>\n",
       "      <td>0</td>\n",
       "      <td>3</td>\n",
       "      <td>0</td>\n",
       "      <td>0.0</td>\n",
       "      <td>...</td>\n",
       "      <td>1.0</td>\n",
       "      <td>0.0</td>\n",
       "      <td>1</td>\n",
       "      <td>143</td>\n",
       "      <td>396</td>\n",
       "      <td>253</td>\n",
       "      <td>49</td>\n",
       "      <td>False</td>\n",
       "      <td>0</td>\n",
       "      <td>38</td>\n",
       "    </tr>\n",
       "    <tr>\n",
       "      <th>98399</th>\n",
       "      <td>98399</td>\n",
       "      <td>2021-22</td>\n",
       "      <td>Nathan Redmond</td>\n",
       "      <td>MID</td>\n",
       "      <td>Southampton</td>\n",
       "      <td>0</td>\n",
       "      <td>0</td>\n",
       "      <td>5</td>\n",
       "      <td>0</td>\n",
       "      <td>0.0</td>\n",
       "      <td>...</td>\n",
       "      <td>4.0</td>\n",
       "      <td>0.0</td>\n",
       "      <td>2</td>\n",
       "      <td>455</td>\n",
       "      <td>683</td>\n",
       "      <td>228</td>\n",
       "      <td>59</td>\n",
       "      <td>False</td>\n",
       "      <td>0</td>\n",
       "      <td>38</td>\n",
       "    </tr>\n",
       "    <tr>\n",
       "      <th>98400</th>\n",
       "      <td>98400</td>\n",
       "      <td>2021-22</td>\n",
       "      <td>Mathew Ryan</td>\n",
       "      <td>GK</td>\n",
       "      <td>Brighton</td>\n",
       "      <td>0</td>\n",
       "      <td>0</td>\n",
       "      <td>0</td>\n",
       "      <td>0</td>\n",
       "      <td>0.0</td>\n",
       "      <td>...</td>\n",
       "      <td>3.0</td>\n",
       "      <td>0.0</td>\n",
       "      <td>0</td>\n",
       "      <td>-2</td>\n",
       "      <td>0</td>\n",
       "      <td>2</td>\n",
       "      <td>45</td>\n",
       "      <td>True</td>\n",
       "      <td>0</td>\n",
       "      <td>38</td>\n",
       "    </tr>\n",
       "    <tr>\n",
       "      <th>98401</th>\n",
       "      <td>98401</td>\n",
       "      <td>2021-22</td>\n",
       "      <td>Ryan Fredericks</td>\n",
       "      <td>DEF</td>\n",
       "      <td>West Ham</td>\n",
       "      <td>0</td>\n",
       "      <td>0</td>\n",
       "      <td>0</td>\n",
       "      <td>0</td>\n",
       "      <td>0.0</td>\n",
       "      <td>...</td>\n",
       "      <td>3.0</td>\n",
       "      <td>0.0</td>\n",
       "      <td>0</td>\n",
       "      <td>36</td>\n",
       "      <td>103</td>\n",
       "      <td>67</td>\n",
       "      <td>44</td>\n",
       "      <td>False</td>\n",
       "      <td>0</td>\n",
       "      <td>38</td>\n",
       "    </tr>\n",
       "  </tbody>\n",
       "</table>\n",
       "<p>98402 rows × 38 columns</p>\n",
       "</div>"
      ],
      "text/plain": [
       "       Unnamed: 0 season_x                name position       team_x  assists  \\\n",
       "0               0  2016-17     Aaron Cresswell      DEF          NaN        0   \n",
       "1               1  2016-17        Aaron Lennon      MID          NaN        0   \n",
       "2               2  2016-17        Aaron Ramsey      MID          NaN        0   \n",
       "3               3  2016-17  Abdoulaye Doucouré      MID          NaN        0   \n",
       "4               4  2016-17        Adam Forshaw      MID          NaN        0   \n",
       "...           ...      ...                 ...      ...          ...      ...   \n",
       "98397       98397  2021-22       Wilfred Ndidi      MID    Leicester        0   \n",
       "98398       98398  2021-22        Matt Ritchie      DEF    Newcastle        0   \n",
       "98399       98399  2021-22      Nathan Redmond      MID  Southampton        0   \n",
       "98400       98400  2021-22         Mathew Ryan       GK     Brighton        0   \n",
       "98401       98401  2021-22     Ryan Fredericks      DEF     West Ham        0   \n",
       "\n",
       "       bonus  bps  clean_sheets  creativity  ...  team_h_score  threat  \\\n",
       "0          0    0             0         0.0  ...           2.0     0.0   \n",
       "1          0    6             0         0.3  ...           1.0     0.0   \n",
       "2          0    5             0         4.9  ...           3.0    23.0   \n",
       "3          0    0             0         0.0  ...           1.0     0.0   \n",
       "4          0    3             0         1.3  ...           1.0     0.0   \n",
       "...      ...  ...           ...         ...  ...           ...     ...   \n",
       "98397      0    0             0         0.0  ...           4.0     0.0   \n",
       "98398      0    3             0         0.0  ...           1.0     0.0   \n",
       "98399      0    5             0         0.0  ...           4.0     0.0   \n",
       "98400      0    0             0         0.0  ...           3.0     0.0   \n",
       "98401      0    0             0         0.0  ...           3.0     0.0   \n",
       "\n",
       "       total_points  transfers_balance  transfers_in  transfers_out value  \\\n",
       "0                 0                  0             0              0    55   \n",
       "1                 1                  0             0              0    60   \n",
       "2                 2                  0             0              0    80   \n",
       "3                 0                  0             0              0    50   \n",
       "4                 1                  0             0              0    45   \n",
       "...             ...                ...           ...            ...   ...   \n",
       "98397             0               -202            22            224    48   \n",
       "98398             1                143           396            253    49   \n",
       "98399             2                455           683            228    59   \n",
       "98400             0                 -2             0              2    45   \n",
       "98401             0                 36           103             67    44   \n",
       "\n",
       "       was_home  yellow_cards  GW  \n",
       "0         False             0   1  \n",
       "1          True             0   1  \n",
       "2          True             0   1  \n",
       "3         False             0   1  \n",
       "4          True             1   1  \n",
       "...         ...           ...  ..  \n",
       "98397      True             0  38  \n",
       "98398     False             0  38  \n",
       "98399     False             0  38  \n",
       "98400      True             0  38  \n",
       "98401     False             0  38  \n",
       "\n",
       "[98402 rows x 38 columns]"
      ]
     },
     "execution_count": 3,
     "metadata": {},
     "output_type": "execute_result"
    }
   ],
   "source": [
    "data"
   ]
  },
  {
   "cell_type": "markdown",
   "id": "d3d304ab",
   "metadata": {},
   "source": [
    "## Exploring Data "
   ]
  },
  {
   "cell_type": "code",
   "execution_count": 4,
   "id": "f987752e",
   "metadata": {},
   "outputs": [
    {
     "data": {
      "text/plain": [
       "Index(['Unnamed: 0', 'season_x', 'name', 'position', 'team_x', 'assists',\n",
       "       'bonus', 'bps', 'clean_sheets', 'creativity', 'element', 'fixture',\n",
       "       'goals_conceded', 'goals_scored', 'ict_index', 'influence',\n",
       "       'kickoff_time', 'minutes', 'opponent_team', 'opp_team_name',\n",
       "       'own_goals', 'penalties_missed', 'penalties_saved', 'red_cards',\n",
       "       'round', 'saves', 'selected', 'team_a_score', 'team_h_score', 'threat',\n",
       "       'total_points', 'transfers_balance', 'transfers_in', 'transfers_out',\n",
       "       'value', 'was_home', 'yellow_cards', 'GW'],\n",
       "      dtype='object')"
      ]
     },
     "execution_count": 4,
     "metadata": {},
     "output_type": "execute_result"
    }
   ],
   "source": [
    "'''exploring columns'''\n",
    "data.columns"
   ]
  },
  {
   "cell_type": "code",
   "execution_count": 5,
   "id": "a085af13",
   "metadata": {},
   "outputs": [
    {
     "name": "stdout",
     "output_type": "stream",
     "text": [
      "<class 'pandas.core.frame.DataFrame'>\n",
      "RangeIndex: 98402 entries, 0 to 98401\n",
      "Data columns (total 38 columns):\n",
      " #   Column             Non-Null Count  Dtype  \n",
      "---  ------             --------------  -----  \n",
      " 0   Unnamed: 0         98402 non-null  int64  \n",
      " 1   season_x           98402 non-null  object \n",
      " 2   name               98402 non-null  object \n",
      " 3   position           98402 non-null  object \n",
      " 4   team_x             48930 non-null  object \n",
      " 5   assists            98402 non-null  int64  \n",
      " 6   bonus              98402 non-null  int64  \n",
      " 7   bps                98402 non-null  int64  \n",
      " 8   clean_sheets       98402 non-null  int64  \n",
      " 9   creativity         98402 non-null  float64\n",
      " 10  element            98402 non-null  int64  \n",
      " 11  fixture            98402 non-null  int64  \n",
      " 12  goals_conceded     98402 non-null  int64  \n",
      " 13  goals_scored       98402 non-null  int64  \n",
      " 14  ict_index          98402 non-null  float64\n",
      " 15  influence          98402 non-null  float64\n",
      " 16  kickoff_time       98402 non-null  object \n",
      " 17  minutes            98402 non-null  int64  \n",
      " 18  opponent_team      98402 non-null  int64  \n",
      " 19  opp_team_name      98402 non-null  object \n",
      " 20  own_goals          98402 non-null  int64  \n",
      " 21  penalties_missed   98402 non-null  int64  \n",
      " 22  penalties_saved    98402 non-null  int64  \n",
      " 23  red_cards          98402 non-null  int64  \n",
      " 24  round              98402 non-null  int64  \n",
      " 25  saves              98402 non-null  int64  \n",
      " 26  selected           98402 non-null  int64  \n",
      " 27  team_a_score       98353 non-null  float64\n",
      " 28  team_h_score       98353 non-null  float64\n",
      " 29  threat             98402 non-null  float64\n",
      " 30  total_points       98402 non-null  int64  \n",
      " 31  transfers_balance  98402 non-null  int64  \n",
      " 32  transfers_in       98402 non-null  int64  \n",
      " 33  transfers_out      98402 non-null  int64  \n",
      " 34  value              98402 non-null  int64  \n",
      " 35  was_home           98402 non-null  bool   \n",
      " 36  yellow_cards       98402 non-null  int64  \n",
      " 37  GW                 98402 non-null  int64  \n",
      "dtypes: bool(1), float64(6), int64(25), object(6)\n",
      "memory usage: 27.9+ MB\n"
     ]
    }
   ],
   "source": [
    "data.info()"
   ]
  },
  {
   "cell_type": "markdown",
   "id": "227dc899",
   "metadata": {},
   "source": [
    "## Investigating data for an Individual"
   ]
  },
  {
   "cell_type": "code",
   "execution_count": 7,
   "id": "68e2abee",
   "metadata": {},
   "outputs": [
    {
     "data": {
      "text/html": [
       "<div>\n",
       "<style scoped>\n",
       "    .dataframe tbody tr th:only-of-type {\n",
       "        vertical-align: middle;\n",
       "    }\n",
       "\n",
       "    .dataframe tbody tr th {\n",
       "        vertical-align: top;\n",
       "    }\n",
       "\n",
       "    .dataframe thead th {\n",
       "        text-align: right;\n",
       "    }\n",
       "</style>\n",
       "<table border=\"1\" class=\"dataframe\">\n",
       "  <thead>\n",
       "    <tr style=\"text-align: right;\">\n",
       "      <th></th>\n",
       "      <th>goals_scored</th>\n",
       "      <th>bps</th>\n",
       "      <th>creativity</th>\n",
       "      <th>assists</th>\n",
       "      <th>clean_sheets</th>\n",
       "      <th>threat</th>\n",
       "      <th>value</th>\n",
       "      <th>yellow_cards</th>\n",
       "      <th>red_cards</th>\n",
       "      <th>penalties_missed</th>\n",
       "      <th>penalties_saved</th>\n",
       "      <th>total_points</th>\n",
       "    </tr>\n",
       "    <tr>\n",
       "      <th>season_x</th>\n",
       "      <th></th>\n",
       "      <th></th>\n",
       "      <th></th>\n",
       "      <th></th>\n",
       "      <th></th>\n",
       "      <th></th>\n",
       "      <th></th>\n",
       "      <th></th>\n",
       "      <th></th>\n",
       "      <th></th>\n",
       "      <th></th>\n",
       "      <th></th>\n",
       "    </tr>\n",
       "  </thead>\n",
       "  <tbody>\n",
       "    <tr>\n",
       "      <th>2016-17</th>\n",
       "      <td>29</td>\n",
       "      <td>920</td>\n",
       "      <td>548.4</td>\n",
       "      <td>7</td>\n",
       "      <td>14</td>\n",
       "      <td>1530.0</td>\n",
       "      <td>119</td>\n",
       "      <td>3</td>\n",
       "      <td>0</td>\n",
       "      <td>1</td>\n",
       "      <td>0</td>\n",
       "      <td>224</td>\n",
       "    </tr>\n",
       "    <tr>\n",
       "      <th>2017-18</th>\n",
       "      <td>29</td>\n",
       "      <td>781</td>\n",
       "      <td>502.1</td>\n",
       "      <td>2</td>\n",
       "      <td>15</td>\n",
       "      <td>2355.0</td>\n",
       "      <td>131</td>\n",
       "      <td>5</td>\n",
       "      <td>0</td>\n",
       "      <td>1</td>\n",
       "      <td>0</td>\n",
       "      <td>217</td>\n",
       "    </tr>\n",
       "    <tr>\n",
       "      <th>2018-19</th>\n",
       "      <td>17</td>\n",
       "      <td>561</td>\n",
       "      <td>430.0</td>\n",
       "      <td>6</td>\n",
       "      <td>9</td>\n",
       "      <td>1359.0</td>\n",
       "      <td>126</td>\n",
       "      <td>5</td>\n",
       "      <td>0</td>\n",
       "      <td>0</td>\n",
       "      <td>0</td>\n",
       "      <td>160</td>\n",
       "    </tr>\n",
       "    <tr>\n",
       "      <th>2019-20</th>\n",
       "      <td>18</td>\n",
       "      <td>587</td>\n",
       "      <td>391.0</td>\n",
       "      <td>2</td>\n",
       "      <td>6</td>\n",
       "      <td>1071.0</td>\n",
       "      <td>111</td>\n",
       "      <td>4</td>\n",
       "      <td>0</td>\n",
       "      <td>0</td>\n",
       "      <td>0</td>\n",
       "      <td>158</td>\n",
       "    </tr>\n",
       "    <tr>\n",
       "      <th>2020-21</th>\n",
       "      <td>23</td>\n",
       "      <td>880</td>\n",
       "      <td>659.1</td>\n",
       "      <td>14</td>\n",
       "      <td>12</td>\n",
       "      <td>1585.0</td>\n",
       "      <td>119</td>\n",
       "      <td>1</td>\n",
       "      <td>0</td>\n",
       "      <td>0</td>\n",
       "      <td>0</td>\n",
       "      <td>242</td>\n",
       "    </tr>\n",
       "    <tr>\n",
       "      <th>2021-22</th>\n",
       "      <td>16</td>\n",
       "      <td>657</td>\n",
       "      <td>629.1</td>\n",
       "      <td>11</td>\n",
       "      <td>13</td>\n",
       "      <td>1609.0</td>\n",
       "      <td>126</td>\n",
       "      <td>5</td>\n",
       "      <td>0</td>\n",
       "      <td>0</td>\n",
       "      <td>0</td>\n",
       "      <td>185</td>\n",
       "    </tr>\n",
       "  </tbody>\n",
       "</table>\n",
       "</div>"
      ],
      "text/plain": [
       "          goals_scored  bps  creativity  assists  clean_sheets  threat  value  \\\n",
       "season_x                                                                        \n",
       "2016-17             29  920       548.4        7            14  1530.0    119   \n",
       "2017-18             29  781       502.1        2            15  2355.0    131   \n",
       "2018-19             17  561       430.0        6             9  1359.0    126   \n",
       "2019-20             18  587       391.0        2             6  1071.0    111   \n",
       "2020-21             23  880       659.1       14            12  1585.0    119   \n",
       "2021-22             16  657       629.1       11            13  1609.0    126   \n",
       "\n",
       "          yellow_cards  red_cards  penalties_missed  penalties_saved  \\\n",
       "season_x                                                               \n",
       "2016-17              3          0                 1                0   \n",
       "2017-18              5          0                 1                0   \n",
       "2018-19              5          0                 0                0   \n",
       "2019-20              4          0                 0                0   \n",
       "2020-21              1          0                 0                0   \n",
       "2021-22              5          0                 0                0   \n",
       "\n",
       "          total_points  \n",
       "season_x                \n",
       "2016-17            224  \n",
       "2017-18            217  \n",
       "2018-19            160  \n",
       "2019-20            158  \n",
       "2020-21            242  \n",
       "2021-22            185  "
      ]
     },
     "execution_count": 7,
     "metadata": {},
     "output_type": "execute_result"
    }
   ],
   "source": [
    "'''isolating data for a given player by season'''\n",
    "\n",
    "kane = data[data['name'] == 'Harry Kane']\n",
    "kane_agg = kane.groupby(by = 'season_x').agg({'goals_scored': 'sum', 'bps': 'sum', 'creativity': 'sum', 'assists': 'sum', \n",
    "                                 'clean_sheets': 'sum', 'threat': 'sum', 'value': 'max', \n",
    "                                 'yellow_cards': 'sum', 'red_cards': 'sum', \n",
    "                                'penalties_missed': 'sum', \n",
    "                                 'penalties_saved': 'sum', 'total_points': 'sum'})\n",
    "kane_agg"
   ]
  },
  {
   "cell_type": "code",
   "execution_count": 8,
   "id": "83db524b",
   "metadata": {},
   "outputs": [],
   "source": [
    "'''taking only the stats we want'''\n",
    "\n",
    "kane = kane[['goals_scored', 'bps', 'creativity', 'assists', 'clean_sheets', 'threat', \n",
    "      'value', 'yellow_cards', 'red_cards', 'penalties_missed', 'penalties_saved', 'total_points']]"
   ]
  },
  {
   "cell_type": "code",
   "execution_count": 9,
   "id": "45100df6",
   "metadata": {},
   "outputs": [
    {
     "data": {
      "text/plain": [
       "<AxesSubplot:>"
      ]
     },
     "execution_count": 9,
     "metadata": {},
     "output_type": "execute_result"
    },
    {
     "data": {
      "image/png": "[encoded data removed]",
      "text/plain": [
       "<Figure size 640x480 with 1 Axes>"
      ]
     },
     "metadata": {},
     "output_type": "display_data"
    }
   ],
   "source": [
    "'''viewing performance'''\n",
    "\n",
    "kane['total_points'].plot()"
   ]
  },
  {
   "cell_type": "markdown",
   "id": "d460322a",
   "metadata": {},
   "source": [
    "## Setting up X and y"
   ]
  },
  {
   "cell_type": "code",
   "execution_count": 10,
   "id": "dfd7854d",
   "metadata": {},
   "outputs": [],
   "source": [
    "'''filtering for only data we want'''\n",
    "\n",
    "df_ngw = data[['goals_scored', 'bps', 'creativity', 'assists', 'clean_sheets', 'threat', \n",
    "      'value', 'yellow_cards', 'red_cards', 'penalties_missed', 'penalties_saved', 'total_points']]"
   ]
  },
  {
   "cell_type": "code",
   "execution_count": 11,
   "id": "2c66b0d7",
   "metadata": {},
   "outputs": [
    {
     "name": "stderr",
     "output_type": "stream",
     "text": [
      "/var/folders/c2/y0gmhjgn52s4fjvr1c_0n5_c0000gp/T/ipykernel_24668/3473777127.py:1: SettingWithCopyWarning: \n",
      "A value is trying to be set on a copy of a slice from a DataFrame.\n",
      "Try using .loc[row_indexer,col_indexer] = value instead\n",
      "\n",
      "See the caveats in the documentation: https://pandas.pydata.org/pandas-docs/stable/user_guide/indexing.html#returning-a-view-versus-a-copy\n",
      "  df_ngw['next_weeks_points'] = df_ngw['total_points'].shift(-1)\n"
     ]
    }
   ],
   "source": [
    "df_ngw['next_weeks_points'] = df_ngw['total_points'].shift(-1)"
   ]
  },
  {
   "cell_type": "code",
   "execution_count": 46,
   "id": "5bdc041e",
   "metadata": {},
   "outputs": [],
   "source": [
    "df_ngw = df_ngw.dropna()"
   ]
  },
  {
   "cell_type": "code",
   "execution_count": 48,
   "id": "226a0d57",
   "metadata": {},
   "outputs": [],
   "source": [
    "X = df_ngw.drop(columns = ['next_weeks_points'])"
   ]
  },
  {
   "cell_type": "code",
   "execution_count": 49,
   "id": "69098962",
   "metadata": {},
   "outputs": [
    {
     "data": {
      "text/plain": [
       "(98401, 12)"
      ]
     },
     "execution_count": 49,
     "metadata": {},
     "output_type": "execute_result"
    }
   ],
   "source": [
    "X.shape"
   ]
  },
  {
   "cell_type": "code",
   "execution_count": 50,
   "id": "86509df9",
   "metadata": {},
   "outputs": [],
   "source": [
    "y = df_ngw[['next_weeks_points']]"
   ]
  },
  {
   "cell_type": "code",
   "execution_count": 51,
   "id": "cef5ebaf",
   "metadata": {},
   "outputs": [
    {
     "name": "stdout",
     "output_type": "stream",
     "text": [
      "<class 'pandas.core.frame.DataFrame'>\n",
      "Int64Index: 98401 entries, 0 to 98400\n",
      "Data columns (total 1 columns):\n",
      " #   Column             Non-Null Count  Dtype  \n",
      "---  ------             --------------  -----  \n",
      " 0   next_weeks_points  98401 non-null  float64\n",
      "dtypes: float64(1)\n",
      "memory usage: 1.5 MB\n"
     ]
    }
   ],
   "source": [
    "y.info()"
   ]
  },
  {
   "cell_type": "markdown",
   "id": "e76e7cf4",
   "metadata": {},
   "source": [
    "## Interacting with the FPL API"
   ]
  },
  {
   "cell_type": "code",
   "execution_count": 15,
   "id": "669ccfd9",
   "metadata": {},
   "outputs": [],
   "source": [
    "base_url = 'https://fantasy.premierleague.com/api/bootstrap-static/'"
   ]
  },
  {
   "cell_type": "code",
   "execution_count": 16,
   "id": "f262032b",
   "metadata": {},
   "outputs": [],
   "source": [
    "response = requests.get(base_url)"
   ]
  },
  {
   "cell_type": "code",
   "execution_count": 17,
   "id": "e09155c4",
   "metadata": {},
   "outputs": [],
   "source": [
    "base_json = response.json()"
   ]
  },
  {
   "cell_type": "code",
   "execution_count": 18,
   "id": "1de7bf9f",
   "metadata": {},
   "outputs": [],
   "source": [
    "elements_df = pd.DataFrame(base_json['elements'])"
   ]
  },
  {
   "cell_type": "markdown",
   "id": "75b00b17",
   "metadata": {},
   "source": [
    "## Getting ID for all players"
   ]
  },
  {
   "cell_type": "code",
   "execution_count": 19,
   "id": "48159d90",
   "metadata": {},
   "outputs": [],
   "source": [
    "'''building a dataframe for searching for the ids necessary for the API to function'''\n",
    "dct=[]\n",
    "\n",
    "for x in elements_df.index:\n",
    "    first_name = elements_df.first_name[x]\n",
    "    second_name = elements_df.second_name[x]\n",
    "    player_id = elements_df.id[x]\n",
    "\n",
    "    player_dict = {'name': first_name + ' ' + second_name,\n",
    "               'player_id' : player_id}\n",
    "    dct.append(player_dict)"
   ]
  },
  {
   "cell_type": "code",
   "execution_count": 20,
   "id": "65408d80",
   "metadata": {},
   "outputs": [
    {
     "data": {
      "text/html": [
       "<div>\n",
       "<style scoped>\n",
       "    .dataframe tbody tr th:only-of-type {\n",
       "        vertical-align: middle;\n",
       "    }\n",
       "\n",
       "    .dataframe tbody tr th {\n",
       "        vertical-align: top;\n",
       "    }\n",
       "\n",
       "    .dataframe thead th {\n",
       "        text-align: right;\n",
       "    }\n",
       "</style>\n",
       "<table border=\"1\" class=\"dataframe\">\n",
       "  <thead>\n",
       "    <tr style=\"text-align: right;\">\n",
       "      <th></th>\n",
       "      <th>name</th>\n",
       "      <th>player_id</th>\n",
       "    </tr>\n",
       "  </thead>\n",
       "  <tbody>\n",
       "    <tr>\n",
       "      <th>0</th>\n",
       "      <td>Cédric Alves Soares</td>\n",
       "      <td>1</td>\n",
       "    </tr>\n",
       "    <tr>\n",
       "      <th>1</th>\n",
       "      <td>Granit Xhaka</td>\n",
       "      <td>3</td>\n",
       "    </tr>\n",
       "    <tr>\n",
       "      <th>2</th>\n",
       "      <td>Mohamed Elneny</td>\n",
       "      <td>4</td>\n",
       "    </tr>\n",
       "    <tr>\n",
       "      <th>3</th>\n",
       "      <td>Rob Holding</td>\n",
       "      <td>5</td>\n",
       "    </tr>\n",
       "    <tr>\n",
       "      <th>4</th>\n",
       "      <td>Thomas Partey</td>\n",
       "      <td>6</td>\n",
       "    </tr>\n",
       "    <tr>\n",
       "      <th>...</th>\n",
       "      <td>...</td>\n",
       "      <td>...</td>\n",
       "    </tr>\n",
       "    <tr>\n",
       "      <th>704</th>\n",
       "      <td>Harvey Griffiths</td>\n",
       "      <td>658</td>\n",
       "    </tr>\n",
       "    <tr>\n",
       "      <th>705</th>\n",
       "      <td>Dexter Lembikisa</td>\n",
       "      <td>664</td>\n",
       "    </tr>\n",
       "    <tr>\n",
       "      <th>706</th>\n",
       "      <td>Matheus Santos Carneiro Da Cunha</td>\n",
       "      <td>682</td>\n",
       "    </tr>\n",
       "    <tr>\n",
       "      <th>707</th>\n",
       "      <td>Mario Lemina</td>\n",
       "      <td>698</td>\n",
       "    </tr>\n",
       "    <tr>\n",
       "      <th>708</th>\n",
       "      <td>Pablo Sarabia</td>\n",
       "      <td>704</td>\n",
       "    </tr>\n",
       "  </tbody>\n",
       "</table>\n",
       "<p>709 rows × 2 columns</p>\n",
       "</div>"
      ],
      "text/plain": [
       "                                 name  player_id\n",
       "0                 Cédric Alves Soares          1\n",
       "1                        Granit Xhaka          3\n",
       "2                      Mohamed Elneny          4\n",
       "3                         Rob Holding          5\n",
       "4                       Thomas Partey          6\n",
       "..                                ...        ...\n",
       "704                  Harvey Griffiths        658\n",
       "705                  Dexter Lembikisa        664\n",
       "706  Matheus Santos Carneiro Da Cunha        682\n",
       "707                      Mario Lemina        698\n",
       "708                     Pablo Sarabia        704\n",
       "\n",
       "[709 rows x 2 columns]"
      ]
     },
     "execution_count": 20,
     "metadata": {},
     "output_type": "execute_result"
    }
   ],
   "source": [
    "player_id_df = pd.DataFrame(dct)\n",
    "player_id_df"
   ]
  },
  {
   "cell_type": "markdown",
   "id": "357a8f60",
   "metadata": {},
   "source": [
    "## Getting Stats for the last Gameweek"
   ]
  },
  {
   "cell_type": "code",
   "execution_count": 21,
   "id": "cc4ee9c7",
   "metadata": {},
   "outputs": [],
   "source": [
    "'''pulls stats only for most recent gameweek to be X input for model'''\n",
    "\n",
    "def get_last_gameweek(x):\n",
    "    url = f'https://fantasy.premierleague.com/api/element-summary/{x}/'\n",
    "    request = requests.get(url)\n",
    "    r_json = request.json()\n",
    "    r_json_history_df = pd.DataFrame(r_json['history'])\n",
    "    return r_json_history_df.tail(1)"
   ]
  },
  {
   "cell_type": "code",
   "execution_count": 22,
   "id": "2c7a2f97",
   "metadata": {},
   "outputs": [
    {
     "data": {
      "text/html": [
       "<div>\n",
       "<style scoped>\n",
       "    .dataframe tbody tr th:only-of-type {\n",
       "        vertical-align: middle;\n",
       "    }\n",
       "\n",
       "    .dataframe tbody tr th {\n",
       "        vertical-align: top;\n",
       "    }\n",
       "\n",
       "    .dataframe thead th {\n",
       "        text-align: right;\n",
       "    }\n",
       "</style>\n",
       "<table border=\"1\" class=\"dataframe\">\n",
       "  <thead>\n",
       "    <tr style=\"text-align: right;\">\n",
       "      <th></th>\n",
       "      <th>element</th>\n",
       "      <th>fixture</th>\n",
       "      <th>opponent_team</th>\n",
       "      <th>total_points</th>\n",
       "      <th>was_home</th>\n",
       "      <th>kickoff_time</th>\n",
       "      <th>team_h_score</th>\n",
       "      <th>team_a_score</th>\n",
       "      <th>round</th>\n",
       "      <th>minutes</th>\n",
       "      <th>...</th>\n",
       "      <th>starts</th>\n",
       "      <th>expected_goals</th>\n",
       "      <th>expected_assists</th>\n",
       "      <th>expected_goal_involvements</th>\n",
       "      <th>expected_goals_conceded</th>\n",
       "      <th>value</th>\n",
       "      <th>transfers_balance</th>\n",
       "      <th>selected</th>\n",
       "      <th>transfers_in</th>\n",
       "      <th>transfers_out</th>\n",
       "    </tr>\n",
       "  </thead>\n",
       "  <tbody>\n",
       "    <tr>\n",
       "      <th>20</th>\n",
       "      <td>427</td>\n",
       "      <td>204</td>\n",
       "      <td>9</td>\n",
       "      <td>6</td>\n",
       "      <td>False</td>\n",
       "      <td>2023-01-23T20:15:00Z</td>\n",
       "      <td>0</td>\n",
       "      <td>1</td>\n",
       "      <td>21</td>\n",
       "      <td>90</td>\n",
       "      <td>...</td>\n",
       "      <td>1</td>\n",
       "      <td>0.63320</td>\n",
       "      <td>0.01875</td>\n",
       "      <td>0.65195</td>\n",
       "      <td>1.17890</td>\n",
       "      <td>117</td>\n",
       "      <td>134961</td>\n",
       "      <td>3972957</td>\n",
       "      <td>197872</td>\n",
       "      <td>62911</td>\n",
       "    </tr>\n",
       "  </tbody>\n",
       "</table>\n",
       "<p>1 rows × 36 columns</p>\n",
       "</div>"
      ],
      "text/plain": [
       "    element  fixture  opponent_team  total_points  was_home  \\\n",
       "20      427      204              9             6     False   \n",
       "\n",
       "            kickoff_time  team_h_score  team_a_score  round  minutes  ...  \\\n",
       "20  2023-01-23T20:15:00Z             0             1     21       90  ...   \n",
       "\n",
       "    starts  expected_goals  expected_assists  expected_goal_involvements  \\\n",
       "20       1         0.63320           0.01875                     0.65195   \n",
       "\n",
       "    expected_goals_conceded  value  transfers_balance  selected  transfers_in  \\\n",
       "20                  1.17890    117             134961   3972957        197872   \n",
       "\n",
       "    transfers_out  \n",
       "20          62911  \n",
       "\n",
       "[1 rows x 36 columns]"
      ]
     },
     "execution_count": 22,
     "metadata": {},
     "output_type": "execute_result"
    }
   ],
   "source": [
    "get_last_gameweek(427)"
   ]
  },
  {
   "cell_type": "code",
   "execution_count": 23,
   "id": "72446036",
   "metadata": {},
   "outputs": [],
   "source": [
    "'''Allows you to search by name and returns only relevant columns for model, the same as the train data'''\n",
    "\n",
    "def players_last_week(name):\n",
    "    p_id = player_id_df.loc[player_id_df['name'] == name].values[0][1]\n",
    "    return get_last_gameweek(p_id)[['goals_scored', 'bps', 'creativity', 'assists', 'clean_sheets',\n",
    "      'threat', 'value', 'yellow_cards', 'red_cards',\n",
    "    'penalties_missed', 'expected_goals_conceded',\n",
    "       'penalties_saved', 'total_points']]\n",
    "    "
   ]
  },
  {
   "cell_type": "code",
   "execution_count": 24,
   "id": "814ac871",
   "metadata": {},
   "outputs": [
    {
     "data": {
      "text/html": [
       "<div>\n",
       "<style scoped>\n",
       "    .dataframe tbody tr th:only-of-type {\n",
       "        vertical-align: middle;\n",
       "    }\n",
       "\n",
       "    .dataframe tbody tr th {\n",
       "        vertical-align: top;\n",
       "    }\n",
       "\n",
       "    .dataframe thead th {\n",
       "        text-align: right;\n",
       "    }\n",
       "</style>\n",
       "<table border=\"1\" class=\"dataframe\">\n",
       "  <thead>\n",
       "    <tr style=\"text-align: right;\">\n",
       "      <th></th>\n",
       "      <th>goals_scored</th>\n",
       "      <th>bps</th>\n",
       "      <th>creativity</th>\n",
       "      <th>assists</th>\n",
       "      <th>clean_sheets</th>\n",
       "      <th>threat</th>\n",
       "      <th>value</th>\n",
       "      <th>yellow_cards</th>\n",
       "      <th>red_cards</th>\n",
       "      <th>penalties_missed</th>\n",
       "      <th>expected_goals_conceded</th>\n",
       "      <th>penalties_saved</th>\n",
       "      <th>total_points</th>\n",
       "    </tr>\n",
       "  </thead>\n",
       "  <tbody>\n",
       "    <tr>\n",
       "      <th>20</th>\n",
       "      <td>1</td>\n",
       "      <td>24</td>\n",
       "      <td>3.0</td>\n",
       "      <td>0</td>\n",
       "      <td>1</td>\n",
       "      <td>54.0</td>\n",
       "      <td>117</td>\n",
       "      <td>0</td>\n",
       "      <td>0</td>\n",
       "      <td>0</td>\n",
       "      <td>1.17890</td>\n",
       "      <td>0</td>\n",
       "      <td>6</td>\n",
       "    </tr>\n",
       "  </tbody>\n",
       "</table>\n",
       "</div>"
      ],
      "text/plain": [
       "    goals_scored  bps creativity  assists  clean_sheets threat  value  \\\n",
       "20             1   24        3.0        0             1   54.0    117   \n",
       "\n",
       "    yellow_cards  red_cards  penalties_missed expected_goals_conceded  \\\n",
       "20             0          0                 0                 1.17890   \n",
       "\n",
       "    penalties_saved  total_points  \n",
       "20                0             6  "
      ]
     },
     "execution_count": 24,
     "metadata": {},
     "output_type": "execute_result"
    }
   ],
   "source": [
    "players_last_week('Harry Kane')"
   ]
  },
  {
   "cell_type": "code",
   "execution_count": 25,
   "id": "556f04c2",
   "metadata": {},
   "outputs": [],
   "source": [
    "mmscaler = MinMaxScaler()\n",
    "X = mmscaler.fit_transform(X)"
   ]
  },
  {
   "cell_type": "code",
   "execution_count": 52,
   "id": "f8215488",
   "metadata": {},
   "outputs": [],
   "source": [
    "model = LinearRegression()"
   ]
  },
  {
   "cell_type": "code",
   "execution_count": 53,
   "id": "51ad7a2c",
   "metadata": {},
   "outputs": [],
   "source": [
    "X_train, X_test, y_train, y_test = train_test_split(X, y, test_size=0.3)"
   ]
  },
  {
   "cell_type": "code",
   "execution_count": 54,
   "id": "099d7e0f",
   "metadata": {},
   "outputs": [
    {
     "data": {
      "text/html": [
       "<style>#sk-container-id-2 {color: black;background-color: white;}#sk-container-id-2 pre{padding: 0;}#sk-container-id-2 div.sk-toggleable {background-color: white;}#sk-container-id-2 label.sk-toggleable__label {cursor: pointer;display: block;width: 100%;margin-bottom: 0;padding: 0.3em;box-sizing: border-box;text-align: center;}#sk-container-id-2 label.sk-toggleable__label-arrow:before {content: \"▸\";float: left;margin-right: 0.25em;color: #696969;}#sk-container-id-2 label.sk-toggleable__label-arrow:hover:before {color: black;}#sk-container-id-2 div.sk-estimator:hover label.sk-toggleable__label-arrow:before {color: black;}#sk-container-id-2 div.sk-toggleable__content {max-height: 0;max-width: 0;overflow: hidden;text-align: left;background-color: #f0f8ff;}#sk-container-id-2 div.sk-toggleable__content pre {margin: 0.2em;color: black;border-radius: 0.25em;background-color: #f0f8ff;}#sk-container-id-2 input.sk-toggleable__control:checked~div.sk-toggleable__content {max-height: 200px;max-width: 100%;overflow: auto;}#sk-container-id-2 input.sk-toggleable__control:checked~label.sk-toggleable__label-arrow:before {content: \"▾\";}#sk-container-id-2 div.sk-estimator input.sk-toggleable__control:checked~label.sk-toggleable__label {background-color: #d4ebff;}#sk-container-id-2 div.sk-label input.sk-toggleable__control:checked~label.sk-toggleable__label {background-color: #d4ebff;}#sk-container-id-2 input.sk-hidden--visually {border: 0;clip: rect(1px 1px 1px 1px);clip: rect(1px, 1px, 1px, 1px);height: 1px;margin: -1px;overflow: hidden;padding: 0;position: absolute;width: 1px;}#sk-container-id-2 div.sk-estimator {font-family: monospace;background-color: #f0f8ff;border: 1px dotted black;border-radius: 0.25em;box-sizing: border-box;margin-bottom: 0.5em;}#sk-container-id-2 div.sk-estimator:hover {background-color: #d4ebff;}#sk-container-id-2 div.sk-parallel-item::after {content: \"\";width: 100%;border-bottom: 1px solid gray;flex-grow: 1;}#sk-container-id-2 div.sk-label:hover label.sk-toggleable__label {background-color: #d4ebff;}#sk-container-id-2 div.sk-serial::before {content: \"\";position: absolute;border-left: 1px solid gray;box-sizing: border-box;top: 0;bottom: 0;left: 50%;z-index: 0;}#sk-container-id-2 div.sk-serial {display: flex;flex-direction: column;align-items: center;background-color: white;padding-right: 0.2em;padding-left: 0.2em;position: relative;}#sk-container-id-2 div.sk-item {position: relative;z-index: 1;}#sk-container-id-2 div.sk-parallel {display: flex;align-items: stretch;justify-content: center;background-color: white;position: relative;}#sk-container-id-2 div.sk-item::before, #sk-container-id-2 div.sk-parallel-item::before {content: \"\";position: absolute;border-left: 1px solid gray;box-sizing: border-box;top: 0;bottom: 0;left: 50%;z-index: -1;}#sk-container-id-2 div.sk-parallel-item {display: flex;flex-direction: column;z-index: 1;position: relative;background-color: white;}#sk-container-id-2 div.sk-parallel-item:first-child::after {align-self: flex-end;width: 50%;}#sk-container-id-2 div.sk-parallel-item:last-child::after {align-self: flex-start;width: 50%;}#sk-container-id-2 div.sk-parallel-item:only-child::after {width: 0;}#sk-container-id-2 div.sk-dashed-wrapped {border: 1px dashed gray;margin: 0 0.4em 0.5em 0.4em;box-sizing: border-box;padding-bottom: 0.4em;background-color: white;}#sk-container-id-2 div.sk-label label {font-family: monospace;font-weight: bold;display: inline-block;line-height: 1.2em;}#sk-container-id-2 div.sk-label-container {text-align: center;}#sk-container-id-2 div.sk-container {/* jupyter's `normalize.less` sets `[hidden] { display: none; }` but bootstrap.min.css set `[hidden] { display: none !important; }` so we also need the `!important` here to be able to override the default hidden behavior on the sphinx rendered scikit-learn.org. See: https://github.com/scikit-learn/scikit-learn/issues/21755 */display: inline-block !important;position: relative;}#sk-container-id-2 div.sk-text-repr-fallback {display: none;}</style><div id=\"sk-container-id-2\" class=\"sk-top-container\"><div class=\"sk-text-repr-fallback\"><pre>LinearRegression()</pre><b>In a Jupyter environment, please rerun this cell to show the HTML representation or trust the notebook. <br />On GitHub, the HTML representation is unable to render, please try loading this page with nbviewer.org.</b></div><div class=\"sk-container\" hidden><div class=\"sk-item\"><div class=\"sk-estimator sk-toggleable\"><input class=\"sk-toggleable__control sk-hidden--visually\" id=\"sk-estimator-id-2\" type=\"checkbox\" checked><label for=\"sk-estimator-id-2\" class=\"sk-toggleable__label sk-toggleable__label-arrow\">LinearRegression</label><div class=\"sk-toggleable__content\"><pre>LinearRegression()</pre></div></div></div></div></div>"
      ],
      "text/plain": [
       "LinearRegression()"
      ]
     },
     "execution_count": 54,
     "metadata": {},
     "output_type": "execute_result"
    }
   ],
   "source": [
    "model.fit(X_train, y_train)"
   ]
  },
  {
   "cell_type": "code",
   "execution_count": 55,
   "id": "4f6d9689",
   "metadata": {},
   "outputs": [
    {
     "data": {
      "text/plain": [
       "0.001414603746157983"
      ]
     },
     "execution_count": 55,
     "metadata": {},
     "output_type": "execute_result"
    }
   ],
   "source": [
    "model.score(X_test,y_test)"
   ]
  },
  {
   "cell_type": "code",
   "execution_count": 56,
   "id": "35e87c4e",
   "metadata": {},
   "outputs": [
    {
     "ename": "AttributeError",
     "evalue": "'LinearRegression' object has no attribute 'summary'",
     "output_type": "error",
     "traceback": [
      "\u001b[0;31m---------------------------------------------------------------------------\u001b[0m",
      "\u001b[0;31mAttributeError\u001b[0m                            Traceback (most recent call last)",
      "Cell \u001b[0;32mIn [56], line 1\u001b[0m\n\u001b[0;32m----> 1\u001b[0m model\u001b[38;5;241m.\u001b[39msummary()\n",
      "\u001b[0;31mAttributeError\u001b[0m: 'LinearRegression' object has no attribute 'summary'"
     ]
    }
   ],
   "source": [
    "model.summary()"
   ]
  },
  {
   "cell_type": "markdown",
   "id": "4d4e9883",
   "metadata": {},
   "source": [
    "## Next Steps for Project:"
   ]
  },
  {
   "cell_type": "markdown",
   "id": "42bb21aa",
   "metadata": {},
   "source": [
    "Scale the X and y data, then we can introduce the model, train it on our data and test the accuracy against our train segment before having a go at predicting some future points for the next gameweeks."
   ]
  },
  {
   "cell_type": "markdown",
   "id": "a92c2572",
   "metadata": {},
   "source": [
    "Next, we can try refining our variables and models. Initially i would expect dreadful accuracy and i would never expect it to be too high as of course it is an unpredictable game!\n"
   ]
  }
 ],
 "metadata": {
  "kernelspec": {
   "display_name": "Python 3 (ipykernel)",
   "language": "python",
   "name": "python3"
  },
  "language_info": {
   "codemirror_mode": {
    "name": "ipython",
    "version": 3
   },
   "file_extension": ".py",
   "mimetype": "text/x-python",
   "name": "python",
   "nbconvert_exporter": "python",
   "pygments_lexer": "ipython3",
   "version": "3.10.6"
  },
  "toc": {
   "base_numbering": 1,
   "nav_menu": {},
   "number_sections": true,
   "sideBar": true,
   "skip_h1_title": false,
   "title_cell": "Table of Contents",
   "title_sidebar": "Contents",
   "toc_cell": false,
   "toc_position": {},
   "toc_section_display": true,
   "toc_window_display": false
  }
 },
 "nbformat": 4,
 "nbformat_minor": 5
}
